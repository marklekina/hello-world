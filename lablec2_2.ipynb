{
  "nbformat": 4,
  "nbformat_minor": 0,
  "metadata": {
    "colab": {
      "name": "lablec2_2.ipynb",
      "provenance": [],
      "include_colab_link": true
    },
    "kernelspec": {
      "name": "python2",
      "display_name": "Python 2"
    }
  },
  "cells": [
    {
      "cell_type": "markdown",
      "metadata": {
        "id": "view-in-github",
        "colab_type": "text"
      },
      "source": [
        "<a href=\"https://colab.research.google.com/github/marklekina/hello-world/blob/master/lablec2_2.ipynb\" target=\"_parent\"><img src=\"https://colab.research.google.com/assets/colab-badge.svg\" alt=\"Open In Colab\"/></a>"
      ]
    },
    {
      "cell_type": "markdown",
      "metadata": {
        "id": "RN1GQ1fqLuMV",
        "colab_type": "text"
      },
      "source": [
        "#**Basic String Exercises**"
      ]
    },
    {
      "cell_type": "markdown",
      "metadata": {
        "id": "Dcgcz7AcMQr9",
        "colab_type": "text"
      },
      "source": [
        "##A. Donuts"
      ]
    },
    {
      "cell_type": "markdown",
      "metadata": {
        "id": "zPuEZl94Ly9p",
        "colab_type": "text"
      },
      "source": [
        "Given an int count of a number of donuts, return a string\n",
        "of the form 'Number of donuts: \\<count\\>', where \\<count\\> is the number passed in. However, if the count between 10 and 20, then use the word 'many' instead of the actual count. If the count is more than 20, then use the words 'very many' instead of the actual count. So donuts(5) returns 'Number of donuts: 5' and donuts(13) returns 'Number of donuts: many' and donuts(23) returns 'Number of donuts: very many'"
      ]
    },
    {
      "cell_type": "code",
      "metadata": {
        "id": "_KlrFgu2MVfM",
        "colab_type": "code",
        "colab": {}
      },
      "source": [
        "def donuts(count):\n",
        "  # +++your code here+++\n",
        "  return"
      ],
      "execution_count": 0,
      "outputs": []
    },
    {
      "cell_type": "markdown",
      "metadata": {
        "id": "0yySGSIiNjy1",
        "colab_type": "text"
      },
      "source": [
        "##B. The middle"
      ]
    },
    {
      "cell_type": "markdown",
      "metadata": {
        "id": "v6HzA9_eNmwz",
        "colab_type": "text"
      },
      "source": [
        "Given a string s, return a string that strips the first two and the last two characters from s. So 'spring' yields 'ri'. If s is four characters or less, return the empty string."
      ]
    },
    {
      "cell_type": "code",
      "metadata": {
        "id": "2sT_S6JIN5Ms",
        "colab_type": "code",
        "colab": {}
      },
      "source": [
        "def middle(s):\n",
        "  # +++your code here+++\n",
        "  return"
      ],
      "execution_count": 0,
      "outputs": []
    },
    {
      "cell_type": "markdown",
      "metadata": {
        "id": "qBVTldM1OZ2a",
        "colab_type": "text"
      },
      "source": [
        "##C. Fix end"
      ]
    },
    {
      "cell_type": "markdown",
      "metadata": {
        "id": "T5NB8mXxOcl6",
        "colab_type": "text"
      },
      "source": [
        "Given a string s, return a string where all occurences of its last char have been changed to '\\*', except do not change the last char itself. e.g. 'wewe' yields 'w\\*we'. Assume that the string is length 1 or more. Hint: s.replace(stra, strb) returns a version of string s where all instances of stra have been replaced by strb."
      ]
    },
    {
      "cell_type": "code",
      "metadata": {
        "id": "pTgBA9nSPERC",
        "colab_type": "code",
        "colab": {}
      },
      "source": [
        "def fix_end(s):\n",
        "  # +++your code here+++\n",
        "  return\n"
      ],
      "execution_count": 0,
      "outputs": []
    },
    {
      "cell_type": "markdown",
      "metadata": {
        "id": "B9eE3ToXPYUg",
        "colab_type": "text"
      },
      "source": [
        "##D. Mix up"
      ]
    },
    {
      "cell_type": "markdown",
      "metadata": {
        "id": "dl4YH3CfPb2J",
        "colab_type": "text"
      },
      "source": [
        "Given strings a and b, return a single string with a and b separated\n",
        "by a space ' ', except swap the last char of each string.\n",
        "e.g.\n",
        "'mix', pod' -> 'mid pox'\n",
        "'dog', 'dinner' -> 'dor dinneg'\n",
        "Assume a and b are length 2 or more."
      ]
    },
    {
      "cell_type": "code",
      "metadata": {
        "id": "cpkLnbUMPWk4",
        "colab_type": "code",
        "colab": {}
      },
      "source": [
        "def mix_up(a, b):\n",
        "  # +++your code here+++\n",
        "  return"
      ],
      "execution_count": 0,
      "outputs": []
    },
    {
      "cell_type": "markdown",
      "metadata": {
        "id": "U9nydoozQHTm",
        "colab_type": "text"
      },
      "source": [
        "#**Tester**"
      ]
    },
    {
      "cell_type": "markdown",
      "metadata": {
        "id": "bXlrehamQe3t",
        "colab_type": "text"
      },
      "source": [
        "Run the test function before running the tester."
      ]
    },
    {
      "cell_type": "code",
      "metadata": {
        "id": "RhjFmXpvQmh-",
        "colab_type": "code",
        "colab": {}
      },
      "source": [
        "def test(got, expected):\n",
        "  if got == expected:\n",
        "    prefix = ' OK '\n",
        "  else:\n",
        "    prefix = '  X '\n",
        "  print '%s got: %s, expected: %s' % (prefix, repr(got), repr(expected))\n"
      ],
      "execution_count": 0,
      "outputs": []
    },
    {
      "cell_type": "code",
      "metadata": {
        "id": "d6qqIIDrQnka",
        "colab_type": "code",
        "colab": {}
      },
      "source": [
        "def tester():\n",
        "  print 'donuts'\n",
        "  # Each line calls donuts, compares its result to the expected for that call.\n",
        "  test(donuts(4), 'Number of donuts: 4')\n",
        "  test(donuts(9), 'Number of donuts: 9')\n",
        "  test(donuts(15), 'Number of donuts: many')\n",
        "  test(donuts(99), 'Number of donuts: very many')\n",
        "\n",
        "  print\n",
        "  print 'middle'\n",
        "  test(middle('spring'), 'ri')\n",
        "  test(middle('Hello'), 'l')\n",
        "  test(middle('a'), '')\n",
        "  test(middle('xyz'), '')\n",
        "\n",
        "  \n",
        "  print\n",
        "  print 'fix_end'\n",
        "  test(fix_end('wewe'), 'w*we')\n",
        "  test(fix_end('paragua'), 'p*r*gua')\n",
        "  test(fix_end('parker'), 'pa*ker')\n",
        "  test(fix_end('rococo'), 'r*c*co')\n",
        "\n",
        "  print\n",
        "  print 'mix_up'\n",
        "  test(mix_up('mix', 'pod'), 'mid pox')\n",
        "  test(mix_up('dog', 'dinner'), 'dor dinneg')\n",
        "  test(mix_up('gnash', 'sport'), 'gnast sporh')\n",
        "  test(mix_up('pezzy', 'firm'), 'pezzm firy')"
      ],
      "execution_count": 0,
      "outputs": []
    },
    {
      "cell_type": "markdown",
      "metadata": {
        "id": "7BtD-gBCSSCt",
        "colab_type": "text"
      },
      "source": [
        "##Actual testing\n",
        "Run the cell below to test your code. Notice that in the notebook we are not using \\_\\_main\\_\\_ like in the Google Python Class."
      ]
    },
    {
      "cell_type": "code",
      "metadata": {
        "id": "6Otkf19TSWSb",
        "colab_type": "code",
        "colab": {}
      },
      "source": [
        "tester()"
      ],
      "execution_count": 0,
      "outputs": []
    },
    {
      "cell_type": "markdown",
      "metadata": {
        "id": "29Byx8hqTkT7",
        "colab_type": "text"
      },
      "source": [
        "#**Submitting**"
      ]
    },
    {
      "cell_type": "markdown",
      "metadata": {
        "id": "OgNxyAi_TnFC",
        "colab_type": "text"
      },
      "source": [
        "1. **Comment out the code in the cell above**\n",
        "2. Ensure you do not have any code in the entire notebook outside of a function.\n",
        "3. Download the notebook as a .py file.\n",
        "4. Submit the downloaded .py in Sharif Judge :-)"
      ]
    }
  ]
}